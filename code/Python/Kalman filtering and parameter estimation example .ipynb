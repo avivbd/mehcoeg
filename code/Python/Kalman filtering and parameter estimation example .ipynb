{
 "cells": [
  {
   "cell_type": "markdown",
   "metadata": {},
   "source": [
    "## Kalman filtering of linear system"
   ]
  },
  {
   "cell_type": "code",
   "execution_count": null,
   "metadata": {
    "collapsed": false
   },
   "outputs": [],
   "source": [
    "%pylab\n",
    "%matplotlib inline\n"
   ]
  },
  {
   "cell_type": "code",
   "execution_count": null,
   "metadata": {
    "collapsed": true
   },
   "outputs": [],
   "source": [
    "from numpy.linalg import inv\n",
    "from numpy.random import multivariate_normal\n"
   ]
  },
  {
   "cell_type": "markdown",
   "metadata": {},
   "source": [
    "Before going into much detail about the filter itself let's see what it does. Consider a simple linear dynamical system which, for instance, may be taken as representing the position and velocity of a mass on a spring:\n",
    "\n",
    "\\begin{equation}\n",
    "\\begin{aligned}\n",
    "\\dot y_1 &= -2\\,y_1 + 2\\,y_2 + 1\\\\\n",
    "\\dot y_2 &= -4\\,y_1 + 2\\,y_2\n",
    "\\end{aligned}\n",
    "\\end{equation}\n",
    "\n",
    "The system has an analytical solution (plotted below):\n",
    "\\begin{equation}\n",
    "\\begin{aligned}\n",
    "%y_1 &= \\frac{3\\,\\sin{2\\,t} + 3\\,\\cos{2\\,t} -1}{2}\n",
    "y_1 &= 1.5\\,\\sin{2\\,t} + 1.5\\,\\cos{2\\,t} - 0.5\n",
    "\\\\\n",
    "y_2 &= 3\\,\\cos{2\\,t} - 1\n",
    "\\end{aligned}\n",
    "\\end{equation}\n",
    "\n"
   ]
  },
  {
   "cell_type": "code",
   "execution_count": null,
   "metadata": {
    "collapsed": false,
    "scrolled": true
   },
   "outputs": [],
   "source": [
    "t = np.linspace(start=0.,stop=25.,num=1000)\n",
    "\n",
    "#analytical solution\n",
    "yan1 = (3*np.sin(2*t) + 3*np.cos(2*t) -1)/2\n",
    "yan2 = 3*np.cos(2*t) - 1\n",
    "\n",
    "plt.subplot(2,1,1)\n",
    "plt.plot(t,yan1,'b')\n",
    "plt.ylabel(r'y$_1$')\n",
    "\n",
    "plt.subplot(2,1,2)\n",
    "plt.plot(t,yan2,'g')\n",
    "plt.ylabel(r'y$_2$')\n",
    "plt.xlabel('t')\n",
    "\n",
    "# savefig('Figures/analytical_solution.pdf')"
   ]
  },
  {
   "cell_type": "markdown",
   "metadata": {},
   "source": [
    "Note that the analytical solution can be verified via numerical integration:"
   ]
  },
  {
   "cell_type": "code",
   "execution_count": null,
   "metadata": {
    "collapsed": true
   },
   "outputs": [],
   "source": [
    "from scipy.integrate import odeint"
   ]
  },
  {
   "cell_type": "code",
   "execution_count": null,
   "metadata": {
    "collapsed": false
   },
   "outputs": [],
   "source": [
    "A = np.array([ [-2.,2.],[-4.,2.] ])\n",
    "u = np.array([1.,0.]) #note dim of u\n",
    "y0 = np.array([1.,2.]) #and y0\n",
    "\n",
    "def odefunc(y, t):\n",
    "    dydt = A.dot(y) + u\n",
    "    return dydt\n",
    "\n",
    "y_num = odeint(odefunc, [1,2], t)\n",
    "ynum1, ynum2 = y_num[:,0],y_num[:,1]\n",
    "\n",
    "plt.subplot(2,1,1)\n",
    "plt.plot(t,yan1,'b',t,ynum1,'--k')\n",
    "plt.ylabel(r'y$_1$')\n",
    "plt.subplot(2,1,2)\n",
    "plt.plot(t,yan2,'g',t,ynum2,'--k')\n",
    "plt.ylabel(r'y$_2$')\n",
    "plt.xlabel('t')"
   ]
  },
  {
   "cell_type": "markdown",
   "metadata": {},
   "source": [
    "Let us further assume that our model of the system is imperfect. There are non-linearities in the spring, there is air resistance, wind, and a myriad of other un-accounted for effects that result in a noisy outcome. If these effects are uncorrelated then their sum total will have a Gaussian probability distribution. We can represent this uncertainty by adding noise to our initial value and then at every simulation step to the dynamical system. Note that now the system does not belong anymore to the familiar deterministic systems we are used to working with, but rather is now stochastic. Each time the system is simulated (each realization) the result will be different, and this randomness is an inherent characteristic of the system, so that no amount of numerical improvement (reduction in step size, etc.) can result in a more accurate output. For non-linear systems the individual realizations may be wildly different from each other. Nonetheless, for linear systems, the statistical properties of the stochastic system are guaranteed to converge to those of the analytical solution, that is the mean of the ensemble at any time should converges to the true mean. \n"
   ]
  },
  {
   "cell_type": "code",
   "execution_count": null,
   "metadata": {
    "collapsed": true
   },
   "outputs": [],
   "source": [
    "import sdeint\n",
    "from numpy.random import multivariate_normal"
   ]
  },
  {
   "cell_type": "code",
   "execution_count": null,
   "metadata": {
    "collapsed": false
   },
   "outputs": [],
   "source": [
    "Q = np.array([[1e-1, 0],[0, 1e-1]])\n",
    "P = np.array([[0.1, 0],[0, 0.1]])\n",
    "\n",
    "ystoch = []\n",
    "for i in range(25):\n",
    "    \n",
    "    x0 = np.array([1.0, 2.0]) + multivariate_normal([0,0],P)\n",
    "\n",
    "    def f(x, t):\n",
    "        return A.dot(x) + u\n",
    "\n",
    "    def G(x, t):\n",
    "        return Q\n",
    "\n",
    "    result = sdeint.itoint(f, G, x0, t)\n",
    "\n",
    "    ystoch.append(result)\n",
    "\n"
   ]
  },
  {
   "cell_type": "code",
   "execution_count": null,
   "metadata": {
    "collapsed": false
   },
   "outputs": [],
   "source": [
    "len(ystoch)"
   ]
  },
  {
   "cell_type": "code",
   "execution_count": null,
   "metadata": {
    "collapsed": false
   },
   "outputs": [],
   "source": [
    "# plt.hold(True)\n",
    "for i in range(25):\n",
    "    plt.subplot(2,1,1)\n",
    "    plt.plot(t,ystoch[i][:,0],'k',alpha=0.2)\n",
    "    plt.ylabel(r'y$_1$')\n",
    "    plt.subplot(2,1,2)\n",
    "    plt.plot(t,ystoch[i][:,1],'k',alpha=0.2)\n",
    "    plt.ylabel(r'y$_2$')\n",
    "    plt.xlabel('t')\n",
    "\n",
    "plt.subplot(2,1,1).plot(t,yan1,'b')\n",
    "plt.subplot(2,1,2).plot(t,yan2,'g')\n",
    "\n",
    "# savefig('Figures/stoch_system.pdf')"
   ]
  },
  {
   "cell_type": "markdown",
   "metadata": {},
   "source": [
    "A second source of uncertainty may come from our observations which may themselves be imprecise, for instance, as geochemists are well aware, repeated weighing of a small amount of material will inevitably result in slightly different values, though the amount of material being weighed remains constant. If the sources of error are uncorrelated then this uncertainty too can be represented by a noise term with a Gaussian distribution which acts to blur the true (analytical) solution. "
   ]
  },
  {
   "cell_type": "code",
   "execution_count": null,
   "metadata": {
    "collapsed": true
   },
   "outputs": [],
   "source": [
    "#make the observations be the analytical solution plus noise\n",
    "yan = np.vstack(([yan1],[yan2])).T\n",
    "R = np.array([[1., 0],[0, 1.]])\n",
    "z = yan + multivariate_normal([0,0],R,len(t))"
   ]
  },
  {
   "cell_type": "code",
   "execution_count": null,
   "metadata": {
    "collapsed": false
   },
   "outputs": [],
   "source": [
    "n = 25 #plot every nth point for visibility\n",
    "plt.subplot(2,1,1)\n",
    "plt.plot(t,yan1,'k')\n",
    "plt.plot(t,z[:,0],'b.',alpha=0.3)\n",
    "plt.ylabel(r'y$_1$')\n",
    "\n",
    "plt.subplot(2,1,2)\n",
    "plt.plot(t,yan2,'k')\n",
    "plt.plot(t,z[:,1],'g.',alpha=0.3)\n",
    "plt.ylabel(r'y$_2$')\n",
    "plt.xlabel('t')\n",
    "\n",
    "# savefig('Figures/data.pdf')"
   ]
  },
  {
   "cell_type": "markdown",
   "metadata": {
    "collapsed": false
   },
   "source": [
    "The question is then, given these uncertainties can one recover a precise estimate of the states of the system? The Kalman filter does precisely that, and, for linear systems and Gaussian noise, is guaranteed to provide an estimate that is as close as possible to the true (analytical) solution, and is better than either model or observations alone. "
   ]
  },
  {
   "cell_type": "code",
   "execution_count": null,
   "metadata": {
    "collapsed": false
   },
   "outputs": [],
   "source": [
    "#now for the filter proper\n",
    "x = y0\n",
    "xs_own, cov = [], []\n",
    "H = np.eye(2)\n",
    "dt = t[1] - t[0]\n",
    "F = np.eye(2) + dt*A\n",
    "\n",
    "for i in range(0,len(t)):\n",
    "    #predict step\n",
    "    x = dot(F,x) + dt*u\n",
    "    P = dot(A,P).dot(A.T) + Q\n",
    "    \n",
    "    #update\n",
    "    S = dot(H, P).dot(H.T) + R\n",
    "    K = dot(P, H.T).dot(inv(S))\n",
    "    y = z[i,:].reshape((2,1)) - dot(H, x)\n",
    "    x = x + dot(K, y)\n",
    "    P = P - dot(K, H).dot(P)\n",
    "    \n",
    "    xs_own.append(x)\n",
    "    cov.append(P)\n",
    "    \n",
    "    \n",
    "xs_own, cov = np.array(xs_own), np.array(cov)\n",
    "\n",
    "plt.subplot(2,1,1)\n",
    "plt.plot(t,xs_own[:,0],'k',t,z[:,0],'b.')\n",
    "plt.ylabel(r'y$_1$')\n",
    "plt.subplot(2,1,2)\n",
    "plt.plot(t,xs_own[:,1],'k',t,z[:,1],'g.')\n",
    "plt.ylabel(r'y$_2$')\n",
    "plt.xlabel('t')\n"
   ]
  },
  {
   "cell_type": "code",
   "execution_count": null,
   "metadata": {
    "collapsed": true
   },
   "outputs": [],
   "source": [
    "#Compare with the pyFilter implementation"
   ]
  },
  {
   "cell_type": "code",
   "execution_count": null,
   "metadata": {
    "collapsed": false
   },
   "outputs": [],
   "source": [
    "from filterpy.kalman import predict, update\n",
    "from filterpy.kalman import KalmanFilter"
   ]
  },
  {
   "cell_type": "code",
   "execution_count": null,
   "metadata": {
    "collapsed": false
   },
   "outputs": [],
   "source": [
    "\n",
    "kf = KalmanFilter(dim_x=2, dim_z=2, dim_u = 2)\n",
    "kf.x = y0 # location and velocity\n",
    "kf.F = F\n",
    "kf.H = H\n",
    "kf.R = R\n",
    "kf.P = P\n",
    "kf.Q = Q\n",
    "\n",
    "\n",
    "# run the kalman filter and store the results\n",
    "xs, cov = [], []\n",
    "for i in range(0,len(t)):\n",
    "    kf.predict()\n",
    "    kf.update(z[i,:])\n",
    "    xs.append(kf.x)\n",
    "    cov.append(kf.P)\n",
    "\n",
    "xs, cov = np.array(xs), np.array(cov)\n",
    "\n",
    "#the filter plotted with the noisy data\n",
    "plt.subplot(2,1,1)\n",
    "plt.plot(t,xs[:,0],'k')\n",
    "plt.plot(t,z[:,0],'.b',alpha=0.2)\n",
    "plt.ylabel(r'y$_1$')\n",
    "plt.subplot(2,1,2)\n",
    "plt.plot(t,xs[:,1],'k')\n",
    "plt.plot(t,z[:,1],'.g',alpha=0.2)\n",
    "plt.ylabel(r'y$_2$')\n",
    "plt.xlabel('t')\n",
    "# savefig('Figures/filter_data.pdf')"
   ]
  },
  {
   "cell_type": "code",
   "execution_count": null,
   "metadata": {
    "collapsed": false
   },
   "outputs": [],
   "source": [
    "#the filter plotted against the analytical solution\n",
    "plt.subplot(2,1,1)\n",
    "plt.plot(t,xs[:,0],'k',alpha=0.5)\n",
    "plt.plot(t,yan1,'b')\n",
    "plt.ylabel(r'y$_1$')\n",
    "plt.subplot(2,1,2)\n",
    "plt.plot(t,xs[:,1],'k',alpha=0.5)\n",
    "plt.plot(t,yan2,'g')\n",
    "plt.ylabel(r'y$_2$')\n",
    "plt.xlabel('t')\n",
    "\n",
    "\n",
    "# savefig('Figures/filter_analytical.pdf')"
   ]
  },
  {
   "cell_type": "markdown",
   "metadata": {},
   "source": [
    "the pyfilt implementation is smoother than mine why I do not know..."
   ]
  },
  {
   "cell_type": "code",
   "execution_count": null,
   "metadata": {
    "collapsed": false
   },
   "outputs": [],
   "source": [
    "plt.subplot(2,1,1)\n",
    "plt.plot(t,xs[:,0],'k')\n",
    "plt.plot(t,xs_own[:,0],'b',alpha=0.2)\n",
    "plt.subplot(2,1,2)\n",
    "plt.plot(t,xs[:,1],'k')\n",
    "plt.plot(t,xs_own[:,1],'g',alpha=0.2)"
   ]
  },
  {
   "cell_type": "markdown",
   "metadata": {},
   "source": [
    "### Apply RTS smoother"
   ]
  },
  {
   "cell_type": "code",
   "execution_count": null,
   "metadata": {
    "collapsed": false
   },
   "outputs": [],
   "source": [
    "# smoother gain\n",
    "nn, dim_x = xs.shape\n",
    "K = zeros((nn,dim_x, dim_x))\n",
    "x, PP = xs.copy(), cov.copy()\n",
    "\n",
    "\n",
    "for k in range(nn-2,-1,-1):\n",
    "    P_pred = dot(F, PP[k]).dot(F.T) + Q\n",
    "\n",
    "    K[k]  = dot(PP[k], F.T).dot(inv(P_pred))\n",
    "    x[k] += dot(K[k], x[k+1] - dot(F, x[k]))\n",
    "    PP[k] += dot(K[k], PP[k+1] - P_pred).dot(K[k].T)"
   ]
  },
  {
   "cell_type": "code",
   "execution_count": null,
   "metadata": {
    "collapsed": false
   },
   "outputs": [],
   "source": [
    "\n",
    "plt.subplot(2,1,1)\n",
    "plt.plot(t,x[:,0],'k')\n",
    "plt.plot(t,yan1,'g')\n",
    "plt.subplot(2,1,2)\n",
    "plt.ylabel(r'y$_1$')\n",
    "plt.plot(t,x[:,1],'k')\n",
    "plt.plot(t,yan2,'b')\n",
    "plt.ylabel(r'y$_2$')\n",
    "plt.xlabel('t')\n",
    "\n",
    "# savefig('Figures/RTS_analytical.pdf')"
   ]
  },
  {
   "cell_type": "code",
   "execution_count": null,
   "metadata": {
    "collapsed": false
   },
   "outputs": [],
   "source": [
    "plt.figure(figsize = (6, 6))\n",
    "for i in range(25):\n",
    "    plt.subplot(2,1,1)\n",
    "    plt.plot(t,ystoch[i][:,0],'g',alpha=0.2)\n",
    "#     plt.ylabel(r'y$_1$')\n",
    "    plt.subplot(2,1,2)\n",
    "    plt.plot(t,ystoch[i][:,1],'b',alpha=0.2)\n",
    "#     plt.ylabel(r'y$_2$')\n",
    "#     plt.xlabel('t')\n",
    "\n",
    "\n",
    "\n",
    "plt.subplot(2,1,1)\n",
    "plt.plot(t,z[:,0],'.g',alpha=0.2)\n",
    "# plt.plot(t,yan1,'g')\n",
    "plt.plot(t,x[:,0],'k')\n",
    "# plt.errorbar(t,x[:,0],yerr=sqrt(Pvar),capsize=0,ls='none')\n",
    "plt.ylabel(r'y$_1$')\n",
    "\n",
    "plt.subplot(2,1,2)\n",
    "plt.plot(t,z[:,1],'.b',alpha=0.2)\n",
    "# plt.plot(t,yan2,'b')\n",
    "plt.plot(t,x[:,1],'k')\n",
    "# plt.errorbar(t,x[:,1],yerr=sqrt(Pvar),capsize=0,ls='none')\n",
    "\n",
    "plt.ylabel(r'y$_2$')\n",
    "plt.xlabel('t')\n",
    "# \n",
    "# savefig('Figures/RTS_stoch_data.pdf')"
   ]
  },
  {
   "cell_type": "markdown",
   "metadata": {},
   "source": [
    "Plot the errors alongside the filter"
   ]
  },
  {
   "cell_type": "code",
   "execution_count": null,
   "metadata": {
    "collapsed": false
   },
   "outputs": [],
   "source": [
    "Pvar = PP[:,0,0]"
   ]
  },
  {
   "cell_type": "code",
   "execution_count": null,
   "metadata": {
    "collapsed": false
   },
   "outputs": [],
   "source": [
    "# plt.figure(figsize = (16, 6))\n",
    "# plt.plot(t[0::n],x[0::n,0],'k',t,yan1,'g')\n",
    "# plt.fill_between(t,x[:,0]+sqrt(Pvar),x[:,0]-sqrt(Pvar))\n",
    "plt.errorbar(t,x[:,0],yerr=sqrt(Pvar),capsize=0,ls='none')\n",
    "plt.plot(t,x[:,0],'k')\n",
    "plt.plot(t,z[:,0],'o',alpha=0.2)\n",
    "# plt.plot(t[0:100],yan1[0:100],'b')\n"
   ]
  },
  {
   "cell_type": "markdown",
   "metadata": {},
   "source": [
    "Is the RTS smoother in fact smoother than the Kalman filter?"
   ]
  },
  {
   "cell_type": "code",
   "execution_count": null,
   "metadata": {
    "collapsed": false
   },
   "outputs": [],
   "source": [
    "plt.subplot(2,1,1)\n",
    "plt.plot(t,x[:,0],'k')\n",
    "plt.plot(t,xs[:,0],'g',alpha=0.3)\n",
    "plt.subplot(2,1,2)\n",
    "plt.plot(t,x[:,1],'k')\n",
    "plt.plot(t,xs[:,1],'b',alpha=0.3)"
   ]
  },
  {
   "cell_type": "markdown",
   "metadata": {
    "collapsed": true
   },
   "source": [
    "## Now for parameter estimation"
   ]
  },
  {
   "cell_type": "code",
   "execution_count": null,
   "metadata": {
    "collapsed": false
   },
   "outputs": [],
   "source": [
    "kf = KalmanFilter(dim_x=3, dim_z=2, dim_u = 3)\n",
    "kf.x = np.array([[1],[2],[5]]) # location and velocity\n",
    "kf.F = np.eye(3) + dt*np.array([[-2., 2., 1.],[-4.,  2., 0],[0,0,0]])  \n",
    "kf.H = np.array([[1., 0, 0],[0, 1, 0]])    \n",
    "kf.R = [[1., 0],[0, 1.]]                     \n",
    "kf.P = np.array([[0.1, 0, 0],[0, 0.1, 0],[0, 0, 0.1]])\n",
    "kf.Q = np.array([[1e-1, 0, 0],[0, 1e-1, 0],[0, 0, 1e-2]])\n",
    "\n",
    "\n",
    "# run the kalman filter and store the results\n",
    "xs, cov = [], []\n",
    "for i in range(0,len(t)):\n",
    "    kf.predict()\n",
    "    kf.update(z[i,:].reshape((2,1)))\n",
    "    xs.append(kf.x)\n",
    "    cov.append(kf.P)\n",
    "\n",
    "xs, cov = np.array(xs), np.array(cov)"
   ]
  },
  {
   "cell_type": "code",
   "execution_count": null,
   "metadata": {
    "collapsed": false
   },
   "outputs": [],
   "source": [
    "plt.subplot(3,1,1)\n",
    "plt.plot(t,xs[:,0],'k',t,z[:,0],'.b')\n",
    "plt.subplot(3,1,2)\n",
    "plt.plot(t,xs[:,1],'k',t,z[:,1],'.g')\n",
    "plt.subplot(3,1,3)\n",
    "plt.plot(t,xs[:,2])\n"
   ]
  },
  {
   "cell_type": "markdown",
   "metadata": {},
   "source": [
    "now also use smoother for parameter estimation"
   ]
  },
  {
   "cell_type": "code",
   "execution_count": null,
   "metadata": {
    "collapsed": false
   },
   "outputs": [],
   "source": [
    "\n",
    "nn, dim_x, _ = xs.shape\n",
    "K = zeros((nn,dim_x, dim_x))\n",
    "x, P = xs.copy(), cov.copy()\n",
    "F = kf.F\n",
    "Q = kf.Q\n",
    "\n",
    "for k in range(nn-2,-1,-1):\n",
    "    P_pred = dot(F, P[k]).dot(F.T) + Q\n",
    "\n",
    "    K[k]  = dot(P[k], F.T).dot(inv(P_pred))\n",
    "    x[k] += dot(K[k], x[k+1] - dot(F, x[k]))\n",
    "    P[k] += dot(K[k], P[k+1] - P_pred).dot(K[k].T)"
   ]
  },
  {
   "cell_type": "code",
   "execution_count": null,
   "metadata": {
    "collapsed": false
   },
   "outputs": [],
   "source": [
    "plt.figure(figsize = (6, 6))\n",
    "plt.subplot(3,1,1)\n",
    "plt.plot(t,x[:,0],'k')\n",
    "plt.plot(t,z[:,0],'.g',alpha=0.2)\n",
    "plt.plot(t,yan1,'g')\n",
    "plt.ylabel(r'y$_1$')\n",
    "\n",
    "plt.subplot(3,1,2)\n",
    "plt.plot(t,x[:,1],'k')\n",
    "plt.plot(t,z[:,1],'.b',alpha=0.2)\n",
    "plt.plot(t,yan2,'b')\n",
    "plt.ylabel(r'y$_2$')\n",
    "\n",
    "plt.subplot(3,1,3)\n",
    "plt.plot(t,x[:,2],'k')\n",
    "plt.ylabel(r'a')\n",
    "plt.xlabel('t')\n",
    "\n",
    "# savefig('Figures/RTS_Pest.pdf')"
   ]
  },
  {
   "cell_type": "markdown",
   "metadata": {
    "collapsed": true
   },
   "source": [
    "## Uncented Filter"
   ]
  },
  {
   "cell_type": "code",
   "execution_count": null,
   "metadata": {
    "collapsed": true
   },
   "outputs": [],
   "source": [
    "from filterpy.kalman import UnscentedKalmanFilter as UKF\n",
    "from filterpy.kalman import MerweScaledSigmaPoints"
   ]
  },
  {
   "cell_type": "code",
   "execution_count": null,
   "metadata": {
    "collapsed": false
   },
   "outputs": [],
   "source": [
    "\n",
    "points = MerweScaledSigmaPoints(n=3, alpha=.3, beta=2., kappa=.1)\n",
    "\n",
    "def f_cv(x):\n",
    "    return np.dot(F, x)\n",
    "\n",
    "def h_cv(x):\n",
    "    return np.dot(H,x)\n",
    "\n",
    "ukf = UKF(dim_x=3, dim_z=2, dt=dt, fx=f_cv, hx=h_cv, points=points)\n",
    "\n",
    "ukf.x = np.array([[1],[2],[5]]) # location and velocity\n",
    "ukf.F = np.eye(3) + dt*np.array([[-2., 2., 1.],[-4.,  2., 0],[0,0,0]])  \n",
    "ukf.H = np.array([[1., 0, 0],[0, 0, 0]])    \n",
    "ukf.R = [[1., 0],[0, 1.]]                     \n",
    "ukf.P = np.array([[0.1, 0, 0],[0, 0.1, 0],[0, 0, 0.1]])\n",
    "ukf.Q = np.array([[1e-1, 0, 0],[0, 1e-1, 0],[0, 0, 1e-2]])\n",
    "\n",
    "# run the kalman filter and store the results\n",
    "xs, covs = [], []\n",
    "for i in range(0,len(t)):\n",
    "    kf.predict()\n",
    "    kf.update(z[i,:].reshape(2,1))\n",
    "    xs.append(kf.x)\n",
    "    covs.append(kf.P)\n",
    "\n",
    "xs, covs = np.array(xs), np.array(covs)\n",
    "\n",
    "#the filter plotted with the noisy data\n",
    "plt.figure(figsize = (6, 6))\n",
    "plt.subplot(3,1,1)\n",
    "plt.plot(t,x[:,0],'k')\n",
    "plt.plot(t,z[:,0],'.g',alpha=0.2)\n",
    "plt.plot(t,yan1,'g')\n",
    "plt.ylabel(r'y$_1$')\n",
    "\n",
    "plt.subplot(3,1,2)\n",
    "plt.plot(t,x[:,1],'k')\n",
    "plt.plot(t,z[:,1],'.b',alpha=0.2)\n",
    "plt.plot(t,yan2,'b')\n",
    "plt.ylabel(r'y$_2$')\n",
    "\n",
    "plt.subplot(3,1,3)\n",
    "plt.plot(t,x[:,2],'k')\n",
    "plt.ylabel(r'a')\n",
    "plt.xlabel('t')\n",
    "# savefig('Figures/filter_data.pdf')"
   ]
  },
  {
   "cell_type": "code",
   "execution_count": null,
   "metadata": {
    "collapsed": false
   },
   "outputs": [],
   "source": [
    "Ms, P, K = kf.rts_smoother(xs, covs)\n",
    "\n",
    "plt.figure(figsize = (6, 6))\n",
    "plt.subplot(3,1,1)\n",
    "plt.plot(t,Ms[:,0],'k')\n",
    "plt.plot(t,z[:,0],'.g',alpha=0.2)\n",
    "plt.plot(t,yan1,'g')\n",
    "plt.ylabel(r'y$_1$')\n",
    "\n",
    "plt.subplot(3,1,2)\n",
    "plt.plot(t,Ms[:,1],'k')\n",
    "plt.plot(t,z[:,1],'.b',alpha=0.2)\n",
    "plt.plot(t,yan2,'b')\n",
    "plt.ylabel(r'y$_2$')\n",
    "\n",
    "plt.subplot(3,1,3)\n",
    "plt.plot(t,Ms[:,2],'k')\n",
    "plt.ylabel(r'a')\n",
    "plt.xlabel('t')\n",
    "\n",
    "\n"
   ]
  },
  {
   "cell_type": "markdown",
   "metadata": {
    "collapsed": true
   },
   "source": [
    "## Ensemble Kalman Filter"
   ]
  },
  {
   "cell_type": "code",
   "execution_count": null,
   "metadata": {
    "collapsed": false
   },
   "outputs": [],
   "source": [
    "#create an ensemble of perturbed initial states \n",
    "mean = y0.flatten()\n",
    "cov = Pnp.array([[0.01, 0, 0],[0, 0.01, 0], [0, 0, .1]])\n",
    "x = np.random.multivariate_normal(mean, cov, 100).T"
   ]
  },
  {
   "cell_type": "code",
   "execution_count": null,
   "metadata": {
    "collapsed": false
   },
   "outputs": [],
   "source": [
    "Cs = []\n",
    "xs = []\n",
    "for i in range(0,len(t)):\n",
    "    #predict step\n",
    "    x = x + (dot(A,x) + u)*dt\n",
    "    P = dot(A,P).dot(A.T) + Q\n",
    "#     print P.shape\n",
    "    #create an ensemble of perturbed data (need to do this for each timestep)\n",
    "    z_mean = z[:,0].flatten()\n",
    "    z_cov = np.array([[0.01, 0],[0, 0.01]])\n",
    "    z = np.random.multivariate_normal(z_mean, z_cov, 100).T\n",
    "\n",
    "    C = np.cov(x)\n",
    "    \n",
    "\n",
    "    # x = x + C*H.T*(H*C*H.T + R)^-1*(D - H*X)\n",
    "    S = dot(H, C).dot(H.T) + R\n",
    "    K = dot(C, H.T).dot(inv(S))\n",
    "    y = z - dot(H, x)\n",
    "    x = x + dot(K, y)\n",
    "\n",
    "    x_mean = x.mean(axis=1)\n",
    "    xs.append(x_mean)\n",
    "    Cs.append(C)\n",
    "    \n",
    "xs, cov = np.array(xs), np.array(cov)"
   ]
  },
  {
   "cell_type": "code",
   "execution_count": null,
   "metadata": {
    "collapsed": false
   },
   "outputs": [],
   "source": [
    "plt.subplot(2,1,1)\n",
    "plt.plot(t,xs[:,0],t,yan1)\n",
    "plt.subplot(2,1,2)\n",
    "plt.plot(t,xs[:,1],t,yan2)\n",
    "\n"
   ]
  },
  {
   "cell_type": "code",
   "execution_count": null,
   "metadata": {
    "collapsed": true
   },
   "outputs": [],
   "source": []
  }
 ],
 "metadata": {
  "anaconda-cloud": {},
  "kernelspec": {
   "display_name": "Python [Root]",
   "language": "python",
   "name": "Python [Root]"
  },
  "language_info": {
   "codemirror_mode": {
    "name": "ipython",
    "version": 2
   },
   "file_extension": ".py",
   "mimetype": "text/x-python",
   "name": "python",
   "nbconvert_exporter": "python",
   "pygments_lexer": "ipython2",
   "version": "2.7.12"
  }
 },
 "nbformat": 4,
 "nbformat_minor": 0
}
