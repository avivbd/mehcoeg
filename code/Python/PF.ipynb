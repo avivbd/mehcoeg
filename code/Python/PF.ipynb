{
 "cells": [
  {
   "cell_type": "code",
   "execution_count": 1,
   "metadata": {
    "ExecuteTime": {
     "end_time": "2017-10-16T16:26:24.391393Z",
     "start_time": "2017-10-16T16:26:24.099257Z"
    },
    "collapsed": true
   },
   "outputs": [],
   "source": [
    "%matplotlib inline"
   ]
  },
  {
   "cell_type": "code",
   "execution_count": 2,
   "metadata": {
    "ExecuteTime": {
     "end_time": "2017-10-16T16:26:36.846986Z",
     "start_time": "2017-10-16T16:26:36.561753Z"
    },
    "collapsed": true
   },
   "outputs": [],
   "source": [
    "import pandas as pd\n",
    "import numpy as np\n"
   ]
  },
  {
   "cell_type": "code",
   "execution_count": 27,
   "metadata": {
    "ExecuteTime": {
     "end_time": "2017-10-16T20:30:57.888210Z",
     "start_time": "2017-10-16T20:30:57.807882Z"
    },
    "collapsed": true
   },
   "outputs": [],
   "source": [
    "class C_cycle:\n",
    "    def __init__(self):\n",
    "        #time series attributes\n",
    "        self.t0 = 0\n",
    "        self.tf = 6e6\n",
    "        self.dt = 5e4\n",
    "        self.tt = np.arange(self.t0, self.tf, self.dt )\n",
    "        self.nt = len(self.tt)\n",
    "\n",
    "        #reservoirs\n",
    "        self.MCss = 3.8e6 #Tmol\n",
    "        self.MPss = 2e3\n",
    "\n",
    "        #fluxes\n",
    "        self.total_input = 50 #Tmol/yr\n",
    "        self.fworg = 0.2\n",
    "        self.forg = 0.2\n",
    "        self.Fv = 5\n",
    "        self.Fwo = 9\n",
    "        self.Fwcarb = 36\n",
    "        self.Fwp = 3.6e-2\n",
    "        self.Fbp = 3.6e-2\n",
    "        self.pCO2 = 540 #ppm\n",
    "        self.P = 2 #muM\n",
    "        self.Fws = (1-self.forg)*self.Fv\n",
    "        self.Fbo = self.Fwo + self.forg*self.Fv\n",
    "        self.Fbcarb = self.Fwcarb + self.Fws\n",
    "\n",
    "        #isotope values\n",
    "        self.eps = 28\n",
    "        self.d13C_volc = -5\n",
    "        self.delC = self.d13C_volc + self.forg*self.eps\n",
    "        self.delwo = self.delC - self.eps\n",
    "\n",
    "        #initial states\n",
    "        self.M0 = [self.MPss, self.MCss, self.delC, 1]\n",
    "\n",
    "        #sensitivities\n",
    "        self.kws = self.Fws/float(self.MCss)\n",
    "        self.kbc = self.Fbcarb/float(self.MCss)\n",
    "        self.kbo = self.Fbo/float(self.MPss)\n",
    "        self.kbp = self.Fbp/float(self.MPss)\n",
    "        self.kwp = self.Fwp/float(self.MCss)\n",
    "        self.kCO2 = self.pCO2/float(self.MCss)\n",
    "        self.kP = self.P/float(self.MPss)\n",
    "\n",
    "\n",
    "        #state variances\n",
    "        self.sigma_MP = 0.075*self.MPss\n",
    "        self.sigma_MC = 0.075*self.MCss\n",
    "        # self.sigma_delC = 0.5*self.delC\n",
    "        # self.sigma_Fv = 0.01*self.Fv\n",
    "\n",
    "        # self.Q = diag(c(self.sigma_MP^2, self.sigma_MC^2, 0.001, 0.005))\n",
    "        self.Q = np.diag([self.sigma_MP**2, self.sigma_MC**2, 1, 0.05])\n",
    "\n",
    "        #observation errors\n",
    "        self.sigma_d13C = 5*self.delC\n",
    "        # self.sigma_pCO2 = 0.5*self.pCO2\n",
    "        # self.sigma_P = 0.5*self.P\n",
    "\n",
    "        self.R = np.array(self.sigma_d13C**2)\n",
    "\n",
    "#         self.W = function(){mvrnorm(n = 1, mu = matrix(0,1,dim(self.Q)[2]), Sigma = self.Q)}\n",
    "#         self.V = function(){mvrnorm(n = 1, mu = matrix(0,1,dim(self.R)[2]), Sigma = self.R)}\n",
    "\n",
    "#         self.Q_sample = diag(c(self.sigma_MP^2, self.sigma_MC^2, 0, 0.1))\n",
    "#         self.R_sample = 0.5*self.delC\n",
    "\n",
    "        #forcing functions for synthetic data\n",
    "        # self.F_fun_d13C = function(t) (1 + 3*sin(1*pi*t/1e6) )\n",
    "#         self.F_forcing  = function(t) (1 + 10e-1*sin(-1*pi*t/1e6) )\n",
    "\n",
    "        #ensemble characteristics\n",
    "        self.n_ensemble = 1000\n",
    "        self.n_trajectories = 50\n",
    "        \n",
    "    def get_pars(self):\n",
    "        return self\n"
   ]
  },
  {
   "cell_type": "code",
   "execution_count": 29,
   "metadata": {
    "ExecuteTime": {
     "end_time": "2017-10-16T20:31:05.582885Z",
     "start_time": "2017-10-16T20:31:05.579942Z"
    }
   },
   "outputs": [],
   "source": [
    "c_cycle_params = C_cycle().get_pars()"
   ]
  },
  {
   "cell_type": "code",
   "execution_count": 40,
   "metadata": {
    "ExecuteTime": {
     "end_time": "2017-10-16T20:55:00.740492Z",
     "start_time": "2017-10-16T20:55:00.720716Z"
    },
    "collapsed": true
   },
   "outputs": [],
   "source": [
    "class SR_cycle(C_cycle):\n",
    "    \n",
    "    def __init__(self):\n",
    "        c_cycle_params = C_cycle().get_pars()\n",
    "        #reservoirs\n",
    "        self.MSr = 1.27e5 # Tmol, from Kump 87.\n",
    "        # results in a residence time of 2.2 Myr\n",
    "\n",
    "        #Sr fluxes\n",
    "        self.F_Sr_hydro_in = 2.5e-2# From Kump and Arthur 1997 \n",
    "        self.F_Sr_hydro_out = self.F_Sr_hydro_in\n",
    "        self.F_Sr_wcarb = 2.5e-2 #from K+A 1997\n",
    "        self.F_Sr_wsil  = 0.25*self.F_Sr_wcarb #from K+A 1997\n",
    "        self.F_Sr_bcarb = self.F_Sr_wcarb + self.F_Sr_wsil\n",
    "\n",
    "        #Sr values\n",
    "        self.R_Sr_hydro_in = 0.7035\n",
    "        self.R_Sr_wsil = 0.7164 #\n",
    "        self.R_Sr_wcarb = 0.7080 # carbonate weathering from Kump and Arthur 1997\n",
    "\n",
    "#         self.RSr = (self.F_Sr_hydro_in*self.R_Sr_hydro_in + \n",
    "#                     self.F_Sr_wsil*self.R_Sr_wsil + \n",
    "#                     self.F_Sr_wcarb*self.R_Sr_wcarb)/\n",
    "#                    float(self.F_Sr_hydro_in + self.F_Sr_wcarb + self.F_Sr_wsil)\n",
    "\n",
    "        #sensitivities\n",
    "        self.k_Sr_Fwcarb = self.F_Sr_wcarb/c_cycle_params.Fwcarb\n",
    "        self.k_Sr_Fwsil = self.F_Sr_wsil/c_cycle_params.Fws\n",
    "        self.k_Sr_bcarb = self.F_Sr_bcarb/self.MSr\n",
    "\n",
    "\n",
    "        #observation errors\n",
    "        self.sigma_RSr = 1e-7\n",
    "        self.R = np.array(self.sigma_RSr**2)\n"
   ]
  },
  {
   "cell_type": "code",
   "execution_count": 41,
   "metadata": {
    "ExecuteTime": {
     "end_time": "2017-10-16T20:55:00.997145Z",
     "start_time": "2017-10-16T20:55:00.992105Z"
    }
   },
   "outputs": [
    {
     "data": {
      "text/plain": [
       "<__main__.SR_cycle instance at 0x7f6cb7a7c878>"
      ]
     },
     "execution_count": 41,
     "metadata": {},
     "output_type": "execute_result"
    }
   ],
   "source": [
    "SR_cycle()"
   ]
  },
  {
   "cell_type": "code",
   "execution_count": null,
   "metadata": {
    "collapsed": true
   },
   "outputs": [],
   "source": [
    "class PF:\n",
    "    def __init__():\n",
    "        \n",
    "        "
   ]
  }
 ],
 "metadata": {
  "kernelspec": {
   "display_name": "Python 2",
   "language": "python",
   "name": "python2"
  },
  "language_info": {
   "codemirror_mode": {
    "name": "ipython",
    "version": 2
   },
   "file_extension": ".py",
   "mimetype": "text/x-python",
   "name": "python",
   "nbconvert_exporter": "python",
   "pygments_lexer": "ipython2",
   "version": "2.7.13"
  }
 },
 "nbformat": 4,
 "nbformat_minor": 2
}
